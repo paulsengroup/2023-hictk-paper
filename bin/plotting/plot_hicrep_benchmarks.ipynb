{
 "cells": [
  {
   "cell_type": "code",
   "execution_count": 1,
   "id": "8d80a5b4-c91e-49b7-96ab-44f82b5336ef",
   "metadata": {},
   "outputs": [],
   "source": [
    "import pathlib\n",
    "\n",
    "import matplotlib.pyplot as plt\n",
    "import pandas as pd\n",
    "import seaborn as sns\n",
    "import matplotlib\n",
    "from matplotlib.lines import Line2D\n",
    "import matplotlib.ticker as plticker"
   ]
  },
  {
   "cell_type": "code",
   "execution_count": 2,
   "id": "7ac2de38-89d0-4fbb-a5d3-11b388057ff6",
   "metadata": {},
   "outputs": [],
   "source": [
    "wd = \"../../\"\n",
    "bench_results = f\"{wd}/benchmarks/data/output/hicrep/report.tsv\"\n",
    "\n",
    "tool_pretty_names = {\n",
    "    \"cooler_cooler\": \"hicrep (cooler)\",\n",
    "    \"hictk_hic\": \"hicrep (hictk hic)\",\n",
    "    \"hictk_cooler\": \"hicrep (hictk cool)\",\n",
    "}\n",
    "\n",
    "color_palette = [\"cornflowerblue\", \"forestgreen\", \"orange\"]\n",
    "\n",
    "matplotlib.rcParams.update(\n",
    "    {\"axes.titlesize\": 10, \"axes.labelsize\": 22, \"legend.fontsize\": 17, \"xtick.labelsize\": 18, \"ytick.labelsize\": 18}\n",
    ")"
   ]
  },
  {
   "cell_type": "code",
   "execution_count": 3,
   "id": "082a3dff-4c9b-4d57-8910-57bd3d6cdf75",
   "metadata": {},
   "outputs": [],
   "source": [
    "def import_data(path) -> pd.DataFrame:\n",
    "    df = pd.read_table(path)\n",
    "    df[\"time_min\"] = df[\"time\"] / 60  # sec -> min\n",
    "    df[\"memory_mb\"] = df[\"memory\"] / 1.0e3  # kb -> mb\n",
    "    df[\"tool\"] = (df[\"tool\"] + \"_\" + df[\"format\"]).map(tool_pretty_names)\n",
    "\n",
    "    return df.sort_values([\"resolution\", \"tool\"])"
   ]
  },
  {
   "cell_type": "code",
   "execution_count": 4,
   "id": "c863cedd-5ae3-4c26-8f57-335fe97da245",
   "metadata": {},
   "outputs": [
    {
     "data": {
      "text/html": [
       "<div>\n",
       "<style scoped>\n",
       "    .dataframe tbody tr th:only-of-type {\n",
       "        vertical-align: middle;\n",
       "    }\n",
       "\n",
       "    .dataframe tbody tr th {\n",
       "        vertical-align: top;\n",
       "    }\n",
       "\n",
       "    .dataframe thead th {\n",
       "        text-align: right;\n",
       "    }\n",
       "</style>\n",
       "<table border=\"1\" class=\"dataframe\">\n",
       "  <thead>\n",
       "    <tr style=\"text-align: right;\">\n",
       "      <th></th>\n",
       "      <th>tool</th>\n",
       "      <th>format</th>\n",
       "      <th>resolution</th>\n",
       "      <th>time</th>\n",
       "      <th>memory</th>\n",
       "      <th>time_min</th>\n",
       "      <th>memory_mb</th>\n",
       "    </tr>\n",
       "  </thead>\n",
       "  <tbody>\n",
       "    <tr>\n",
       "      <th>0</th>\n",
       "      <td>hicrep (cooler)</td>\n",
       "      <td>cooler</td>\n",
       "      <td>25000</td>\n",
       "      <td>178.18</td>\n",
       "      <td>2257396</td>\n",
       "      <td>2.969667</td>\n",
       "      <td>2257.396</td>\n",
       "    </tr>\n",
       "    <tr>\n",
       "      <th>3</th>\n",
       "      <td>hicrep (cooler)</td>\n",
       "      <td>cooler</td>\n",
       "      <td>25000</td>\n",
       "      <td>178.19</td>\n",
       "      <td>1927196</td>\n",
       "      <td>2.969833</td>\n",
       "      <td>1927.196</td>\n",
       "    </tr>\n",
       "    <tr>\n",
       "      <th>6</th>\n",
       "      <td>hicrep (cooler)</td>\n",
       "      <td>cooler</td>\n",
       "      <td>25000</td>\n",
       "      <td>177.70</td>\n",
       "      <td>2002848</td>\n",
       "      <td>2.961667</td>\n",
       "      <td>2002.848</td>\n",
       "    </tr>\n",
       "    <tr>\n",
       "      <th>1</th>\n",
       "      <td>hicrep (hictk cool)</td>\n",
       "      <td>cooler</td>\n",
       "      <td>25000</td>\n",
       "      <td>162.06</td>\n",
       "      <td>1578840</td>\n",
       "      <td>2.701000</td>\n",
       "      <td>1578.840</td>\n",
       "    </tr>\n",
       "    <tr>\n",
       "      <th>4</th>\n",
       "      <td>hicrep (hictk cool)</td>\n",
       "      <td>cooler</td>\n",
       "      <td>25000</td>\n",
       "      <td>160.88</td>\n",
       "      <td>1581368</td>\n",
       "      <td>2.681333</td>\n",
       "      <td>1581.368</td>\n",
       "    </tr>\n",
       "    <tr>\n",
       "      <th>7</th>\n",
       "      <td>hicrep (hictk cool)</td>\n",
       "      <td>cooler</td>\n",
       "      <td>25000</td>\n",
       "      <td>161.23</td>\n",
       "      <td>1578964</td>\n",
       "      <td>2.687167</td>\n",
       "      <td>1578.964</td>\n",
       "    </tr>\n",
       "    <tr>\n",
       "      <th>2</th>\n",
       "      <td>hicrep (hictk hic)</td>\n",
       "      <td>hic</td>\n",
       "      <td>25000</td>\n",
       "      <td>1039.83</td>\n",
       "      <td>2736640</td>\n",
       "      <td>17.330500</td>\n",
       "      <td>2736.640</td>\n",
       "    </tr>\n",
       "    <tr>\n",
       "      <th>5</th>\n",
       "      <td>hicrep (hictk hic)</td>\n",
       "      <td>hic</td>\n",
       "      <td>25000</td>\n",
       "      <td>1028.62</td>\n",
       "      <td>2738960</td>\n",
       "      <td>17.143667</td>\n",
       "      <td>2738.960</td>\n",
       "    </tr>\n",
       "    <tr>\n",
       "      <th>8</th>\n",
       "      <td>hicrep (hictk hic)</td>\n",
       "      <td>hic</td>\n",
       "      <td>25000</td>\n",
       "      <td>1033.01</td>\n",
       "      <td>2751876</td>\n",
       "      <td>17.216833</td>\n",
       "      <td>2751.876</td>\n",
       "    </tr>\n",
       "  </tbody>\n",
       "</table>\n",
       "</div>"
      ],
      "text/plain": [
       "                  tool  format  resolution     time   memory   time_min  \\\n",
       "0      hicrep (cooler)  cooler       25000   178.18  2257396   2.969667   \n",
       "3      hicrep (cooler)  cooler       25000   178.19  1927196   2.969833   \n",
       "6      hicrep (cooler)  cooler       25000   177.70  2002848   2.961667   \n",
       "1  hicrep (hictk cool)  cooler       25000   162.06  1578840   2.701000   \n",
       "4  hicrep (hictk cool)  cooler       25000   160.88  1581368   2.681333   \n",
       "7  hicrep (hictk cool)  cooler       25000   161.23  1578964   2.687167   \n",
       "2   hicrep (hictk hic)     hic       25000  1039.83  2736640  17.330500   \n",
       "5   hicrep (hictk hic)     hic       25000  1028.62  2738960  17.143667   \n",
       "8   hicrep (hictk hic)     hic       25000  1033.01  2751876  17.216833   \n",
       "\n",
       "   memory_mb  \n",
       "0   2257.396  \n",
       "3   1927.196  \n",
       "6   2002.848  \n",
       "1   1578.840  \n",
       "4   1581.368  \n",
       "7   1578.964  \n",
       "2   2736.640  \n",
       "5   2738.960  \n",
       "8   2751.876  "
      ]
     },
     "execution_count": 4,
     "metadata": {},
     "output_type": "execute_result"
    }
   ],
   "source": [
    "df = import_data(bench_results)\n",
    "df"
   ]
  },
  {
   "cell_type": "code",
   "execution_count": 5,
   "id": "a3deb905-2ea1-4b10-8891-3509a9956034",
   "metadata": {},
   "outputs": [
    {
     "name": "stderr",
     "output_type": "stream",
     "text": [
      "/tmp/ipykernel_2131292/986005529.py:2: FutureWarning: \n",
      "\n",
      "Passing `palette` without assigning `hue` is deprecated and will be removed in v0.14.0. Assign the `y` variable to `hue` and set `legend=False` for the same effect.\n",
      "\n",
      "  sns.barplot(df, y=\"tool\", x=\"time_min\", estimator=\"median\", ax=ax, errorbar=\"se\", palette=color_palette)\n"
     ]
    },
    {
     "data": {
      "image/png": "[encoded data removed]",
      "text/plain": [
       "<Figure size 640x300 with 1 Axes>"
      ]
     },
     "metadata": {},
     "output_type": "display_data"
    }
   ],
   "source": [
    "fig, ax = plt.subplots(1, 1, figsize=(6.4, 3))\n",
    "sns.barplot(df, y=\"tool\", x=\"time_min\", estimator=\"median\", ax=ax, errorbar=\"se\", palette=color_palette)\n",
    "ax.set(title=\"hicrep\", xlabel=\"Time (min)\", ylabel=\"\")\n",
    "\n",
    "fig.tight_layout()\n",
    "fig.savefig(\"/tmp/hicrep_runtime.png\", dpi=600)\n",
    "fig.savefig(\"/tmp/hicrep_runtime.svg\")"
   ]
  },
  {
   "cell_type": "code",
   "execution_count": 6,
   "id": "c123a9ac-879f-49de-9e62-c3d77a5dbcb3",
   "metadata": {},
   "outputs": [
    {
     "name": "stderr",
     "output_type": "stream",
     "text": [
      "/tmp/ipykernel_2131292/3294343558.py:2: FutureWarning: \n",
      "\n",
      "Passing `palette` without assigning `hue` is deprecated and will be removed in v0.14.0. Assign the `y` variable to `hue` and set `legend=False` for the same effect.\n",
      "\n",
      "  sns.barplot(df, y=\"tool\", x=\"memory_mb\", estimator=\"median\", ax=ax, errorbar=\"se\", palette=color_palette)\n"
     ]
    },
    {
     "data": {
      "image/png": "[encoded data removed]",
      "text/plain": [
       "<Figure size 640x300 with 1 Axes>"
      ]
     },
     "metadata": {},
     "output_type": "display_data"
    }
   ],
   "source": [
    "fig, ax = plt.subplots(1, 1, figsize=(6.4, 3))\n",
    "sns.barplot(df, y=\"tool\", x=\"memory_mb\", estimator=\"median\", ax=ax, errorbar=\"se\", palette=color_palette)\n",
    "ax.set(title=\"hicrep\", xlabel=\"Memory (MBs)\", ylabel=\"\")\n",
    "\n",
    "fig.tight_layout()\n",
    "fig.savefig(\"/tmp/hicrep_memory.png\", dpi=600)\n",
    "fig.savefig(\"/tmp/hicrep_memory.svg\")"
   ]
  },
  {
   "cell_type": "code",
   "execution_count": null,
   "id": "cb668991-d341-4485-89dc-d78b9087416d",
   "metadata": {},
   "outputs": [],
   "source": []
  }
 ],
 "metadata": {
  "kernelspec": {
   "display_name": "devel",
   "language": "python",
   "name": "devel"
  },
  "language_info": {
   "codemirror_mode": {
    "name": "ipython",
    "version": 3
   },
   "file_extension": ".py",
   "mimetype": "text/x-python",
   "name": "python",
   "nbconvert_exporter": "python",
   "pygments_lexer": "ipython3",
   "version": "3.10.12"
  }
 },
 "nbformat": 4,
 "nbformat_minor": 5
}
