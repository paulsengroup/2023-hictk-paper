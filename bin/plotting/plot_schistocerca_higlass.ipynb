{
 "cells": [
  {
   "cell_type": "code",
   "execution_count": 1,
   "id": "0e37ebc5-2447-4660-af8c-0ae9fd8d8139",
   "metadata": {},
   "outputs": [],
   "source": [
    "import higlass as hg\n",
    "import cooler\n",
    "import pathlib\n",
    "import itertools\n",
    "import glob"
   ]
  },
  {
   "cell_type": "code",
   "execution_count": 2,
   "id": "ffef94c7-21c5-4576-93ce-3cc6a09cd309",
   "metadata": {},
   "outputs": [],
   "source": [
    "domain = (330_000_000, 430_000_000)\n",
    "wd = \"../../\"\n",
    "coolers = [\n",
    "    f\"{wd}/data/input/matrices/iqSchAmer2.1_30.mcool\",\n",
    "    f\"{wd}/data/input/matrices/iqSchCanc2.1_30.mcool\",\n",
    "    f\"{wd}/data/input/matrices/iqSchNite1.1_30.mcool\",\n",
    "    f\"{wd}/data/input/matrices/iqSchSeri2.1_30.mcool\",\n",
    "]"
   ]
  },
  {
   "cell_type": "code",
   "execution_count": 3,
   "id": "6eab8223-510b-4111-8ec7-75bc62bd9bbe",
   "metadata": {},
   "outputs": [],
   "source": [
    "cooler_tracks = []\n",
    "\n",
    "for clr in coolers:\n",
    "    cooler_tracks.append(\n",
    "        hg.cooler(clr).track(\"heatmap\", height=500).opts(balance=\"KR\", showMousePosition=True, showTooltip=True)\n",
    "    )\n",
    "\n",
    "# chrom_sizes_track = hg.cooler(coolers[0]).track(\"chromosome-labels\", height=25)"
   ]
  },
  {
   "cell_type": "code",
   "execution_count": 4,
   "id": "c794a446-2dc1-48b7-8fa9-3a8e55bfd0b0",
   "metadata": {},
   "outputs": [
    {
     "data": {
      "text/html": [
       "\n",
       "<!DOCTYPE html>\n",
       "<html>\n",
       "  <head>\n",
       "    <link rel=\"stylesheet\" href=\"https://esm.sh/higlass@1.12/dist/hglib.css\">\n",
       "    <script src=\"https://unpkg.com/requirejs-toggle\"></script>\n",
       "    \n",
       "    <script src=\"https://unpkg.com/requirejs-toggle\"></script>\n",
       "  </head>\n",
       "  <body>\n",
       "    <div id=\"jupyter-hg-7ff9bda8707a4d91a5d041d8a59f6c5d\"></div>\n",
       "  </body>\n",
       "  <script type=\"module\">\n",
       "    import hglib from \"https://esm.sh/higlass@1.12?deps=react@17,react-dom@17,pixi.js@6\";\n",
       "    hglib.viewer(\n",
       "      document.getElementById('jupyter-hg-7ff9bda8707a4d91a5d041d8a59f6c5d'),\n",
       "      {\"editable\": true, \"viewEditable\": true, \"tracksEditable\": true, \"views\": [{\"layout\": {\"x\": 0, \"y\": 0, \"w\": 4, \"h\": 6}, \"tracks\": {\"top\": [{\"tilesetUid\": \"a6b2d236675eddaaefaa09848ea6c24d\", \"server\": \"http://localhost:46695/tilesets/api/v1/\", \"type\": \"chromosome-labels\", \"uid\": \"41e538cc-ad07-4eb5-b1ec-7b1191c59609\", \"height\": 25}], \"center\": [{\"tilesetUid\": \"a6b2d236675eddaaefaa09848ea6c24d\", \"server\": \"http://localhost:46695/tilesets/api/v1/\", \"type\": \"heatmap\", \"uid\": \"4ab0733c-e129-4b01-ad4c-79fe41dccc24\", \"height\": 400, \"options\": {\"balance\": \"KR\", \"showMousePosition\": true, \"showTooltip\": true}}]}, \"uid\": \"fee0c277-ab28-45cb-ada6-c60a44a8cd5b\", \"initialXDomain\": [330000000.0, 430000000.0], \"initialYDomain\": [330000000.0, 430000000.0], \"zoomLimits\": [1.0, null]}, {\"layout\": {\"x\": 4, \"y\": 0, \"w\": 4, \"h\": 6}, \"tracks\": {\"top\": [{\"tilesetUid\": \"ef7eac5de5c6d45914dae42ae03bcdcf\", \"server\": \"http://localhost:46695/tilesets/api/v1/\", \"type\": \"chromosome-labels\", \"uid\": \"6ce10d2c-a2fa-4ecb-8e55-29170d0c23cd\", \"height\": 25}], \"center\": [{\"tilesetUid\": \"ef7eac5de5c6d45914dae42ae03bcdcf\", \"server\": \"http://localhost:46695/tilesets/api/v1/\", \"type\": \"heatmap\", \"uid\": \"ef7ecfe3-bf69-40d0-b640-098cbd13fb2a\", \"height\": 400, \"options\": {\"balance\": \"KR\", \"showMousePosition\": true, \"showTooltip\": true}}]}, \"uid\": \"e42afb9e-c60c-4606-b08f-89816b2c7185\", \"initialXDomain\": [330000000.0, 430000000.0], \"initialYDomain\": [330000000.0, 430000000.0], \"zoomLimits\": [1.0, null]}, {\"layout\": {\"x\": 8, \"y\": 0, \"w\": 4, \"h\": 6}, \"tracks\": {\"top\": [{\"tilesetUid\": \"f237da041678156b89b9bdb2f4dc70aa\", \"server\": \"http://localhost:46695/tilesets/api/v1/\", \"type\": \"chromosome-labels\", \"uid\": \"d15da059-eecc-46a1-a7f7-4fe2cf1f54a3\", \"height\": 25}], \"center\": [{\"tilesetUid\": \"f237da041678156b89b9bdb2f4dc70aa\", \"server\": \"http://localhost:46695/tilesets/api/v1/\", \"type\": \"heatmap\", \"uid\": \"2ca96738-e101-491e-9621-6aa733cc6519\", \"height\": 400, \"options\": {\"balance\": \"KR\", \"showMousePosition\": true, \"showTooltip\": true}}]}, \"uid\": \"3aad3956-919a-4273-8f6d-db7b116a3ce0\", \"initialXDomain\": [330000000.0, 430000000.0], \"initialYDomain\": [330000000.0, 430000000.0], \"zoomLimits\": [1.0, null]}], \"zoomLocks\": {\"locksByViewUid\": {\"fee0c277-ab28-45cb-ada6-c60a44a8cd5b\": \"9ec5ac3b-8079-49f6-9019-15517ad8e5fc\", \"e42afb9e-c60c-4606-b08f-89816b2c7185\": \"9ec5ac3b-8079-49f6-9019-15517ad8e5fc\", \"3aad3956-919a-4273-8f6d-db7b116a3ce0\": \"9ec5ac3b-8079-49f6-9019-15517ad8e5fc\"}, \"locksDict\": {\"9ec5ac3b-8079-49f6-9019-15517ad8e5fc\": {\"uid\": \"9ec5ac3b-8079-49f6-9019-15517ad8e5fc\", \"fee0c277-ab28-45cb-ada6-c60a44a8cd5b\": [1.0, 1.0, 1.0], \"e42afb9e-c60c-4606-b08f-89816b2c7185\": [1.0, 1.0, 1.0], \"3aad3956-919a-4273-8f6d-db7b116a3ce0\": [1.0, 1.0, 1.0]}}}, \"locationLocks\": {\"locksByViewUid\": {\"fee0c277-ab28-45cb-ada6-c60a44a8cd5b\": \"9ec5ac3b-8079-49f6-9019-15517ad8e5fc\", \"e42afb9e-c60c-4606-b08f-89816b2c7185\": \"9ec5ac3b-8079-49f6-9019-15517ad8e5fc\", \"3aad3956-919a-4273-8f6d-db7b116a3ce0\": \"9ec5ac3b-8079-49f6-9019-15517ad8e5fc\"}, \"locksDict\": {\"9ec5ac3b-8079-49f6-9019-15517ad8e5fc\": {\"uid\": \"9ec5ac3b-8079-49f6-9019-15517ad8e5fc\", \"fee0c277-ab28-45cb-ada6-c60a44a8cd5b\": [1.0, 1.0, 1.0], \"e42afb9e-c60c-4606-b08f-89816b2c7185\": [1.0, 1.0, 1.0], \"3aad3956-919a-4273-8f6d-db7b116a3ce0\": [1.0, 1.0, 1.0]}}}, \"valueScaleLocks\": {\"locksByViewUid\": {}, \"locksDict\": {}}},\n",
       "    );\n",
       "    </script>\n",
       "</html>"
      ],
      "text/plain": [
       "Viewconf(editable=True, viewEditable=True, tracksEditable=True, zoomFixed=None, compactLayout=None, exportViewUrl=None, trackSourceServers=None, views=[View(layout=Layout(x=0, y=0, w=4, h=6, moved=None, static=None), tracks=Tracks[TrackT](left=None, right=None, top=[EnumTrack(tilesetUid='a6b2d236675eddaaefaa09848ea6c24d', server='http://localhost:46695/tilesets/api/v1/', type='chromosome-labels', uid='41e538cc-ad07-4eb5-b1ec-7b1191c59609', width=None, height=25, options=None, data=None, chromInfoPath=None, fromViewUid=None, x=None, y=None)], bottom=None, center=[HeatmapTrack(tilesetUid='a6b2d236675eddaaefaa09848ea6c24d', server='http://localhost:46695/tilesets/api/v1/', type='heatmap', uid='4ab0733c-e129-4b01-ad4c-79fe41dccc24', width=None, height=400, options={'balance': 'KR', 'showMousePosition': True, 'showTooltip': True}, data=None, position=None, transforms=None)], whole=None, gallery=None), uid='fee0c277-ab28-45cb-ada6-c60a44a8cd5b', autocompleteSource=None, chromInfoPath=None, genomePositionSearchBox=None, genomePositionSearchBoxVisible=None, initialXDomain=(330000000.0, 430000000.0), initialYDomain=(330000000.0, 430000000.0), overlays=None, selectionView=None, zoomFixed=None, zoomLimits=(1.0, None)), View(layout=Layout(x=4, y=0, w=4, h=6, moved=None, static=None), tracks=Tracks[TrackT](left=None, right=None, top=[EnumTrack(tilesetUid='ef7eac5de5c6d45914dae42ae03bcdcf', server='http://localhost:46695/tilesets/api/v1/', type='chromosome-labels', uid='6ce10d2c-a2fa-4ecb-8e55-29170d0c23cd', width=None, height=25, options=None, data=None, chromInfoPath=None, fromViewUid=None, x=None, y=None)], bottom=None, center=[HeatmapTrack(tilesetUid='ef7eac5de5c6d45914dae42ae03bcdcf', server='http://localhost:46695/tilesets/api/v1/', type='heatmap', uid='ef7ecfe3-bf69-40d0-b640-098cbd13fb2a', width=None, height=400, options={'balance': 'KR', 'showMousePosition': True, 'showTooltip': True}, data=None, position=None, transforms=None)], whole=None, gallery=None), uid='e42afb9e-c60c-4606-b08f-89816b2c7185', autocompleteSource=None, chromInfoPath=None, genomePositionSearchBox=None, genomePositionSearchBoxVisible=None, initialXDomain=(330000000.0, 430000000.0), initialYDomain=(330000000.0, 430000000.0), overlays=None, selectionView=None, zoomFixed=None, zoomLimits=(1.0, None)), View(layout=Layout(x=8, y=0, w=4, h=6, moved=None, static=None), tracks=Tracks[TrackT](left=None, right=None, top=[EnumTrack(tilesetUid='f237da041678156b89b9bdb2f4dc70aa', server='http://localhost:46695/tilesets/api/v1/', type='chromosome-labels', uid='d15da059-eecc-46a1-a7f7-4fe2cf1f54a3', width=None, height=25, options=None, data=None, chromInfoPath=None, fromViewUid=None, x=None, y=None)], bottom=None, center=[HeatmapTrack(tilesetUid='f237da041678156b89b9bdb2f4dc70aa', server='http://localhost:46695/tilesets/api/v1/', type='heatmap', uid='2ca96738-e101-491e-9621-6aa733cc6519', width=None, height=400, options={'balance': 'KR', 'showMousePosition': True, 'showTooltip': True}, data=None, position=None, transforms=None)], whole=None, gallery=None), uid='3aad3956-919a-4273-8f6d-db7b116a3ce0', autocompleteSource=None, chromInfoPath=None, genomePositionSearchBox=None, genomePositionSearchBoxVisible=None, initialXDomain=(330000000.0, 430000000.0), initialYDomain=(330000000.0, 430000000.0), overlays=None, selectionView=None, zoomFixed=None, zoomLimits=(1.0, None))], zoomLocks=ZoomLocks(locksByViewUid={'fee0c277-ab28-45cb-ada6-c60a44a8cd5b': '9ec5ac3b-8079-49f6-9019-15517ad8e5fc', 'e42afb9e-c60c-4606-b08f-89816b2c7185': '9ec5ac3b-8079-49f6-9019-15517ad8e5fc', '3aad3956-919a-4273-8f6d-db7b116a3ce0': '9ec5ac3b-8079-49f6-9019-15517ad8e5fc'}, locksDict={'9ec5ac3b-8079-49f6-9019-15517ad8e5fc': Lock(uid='9ec5ac3b-8079-49f6-9019-15517ad8e5fc', fee0c277-ab28-45cb-ada6-c60a44a8cd5b=(1.0, 1.0, 1.0), e42afb9e-c60c-4606-b08f-89816b2c7185=(1.0, 1.0, 1.0), 3aad3956-919a-4273-8f6d-db7b116a3ce0=(1.0, 1.0, 1.0))}), locationLocks=LocationLocks(locksByViewUid={'fee0c277-ab28-45cb-ada6-c60a44a8cd5b': '9ec5ac3b-8079-49f6-9019-15517ad8e5fc', 'e42afb9e-c60c-4606-b08f-89816b2c7185': '9ec5ac3b-8079-49f6-9019-15517ad8e5fc', '3aad3956-919a-4273-8f6d-db7b116a3ce0': '9ec5ac3b-8079-49f6-9019-15517ad8e5fc'}, locksDict={'9ec5ac3b-8079-49f6-9019-15517ad8e5fc': Lock(uid='9ec5ac3b-8079-49f6-9019-15517ad8e5fc', fee0c277-ab28-45cb-ada6-c60a44a8cd5b=(1.0, 1.0, 1.0), e42afb9e-c60c-4606-b08f-89816b2c7185=(1.0, 1.0, 1.0), 3aad3956-919a-4273-8f6d-db7b116a3ce0=(1.0, 1.0, 1.0))}), valueScaleLocks=ValueScaleLocks(locksByViewUid={}, locksDict={}), chromInfoPath=None)"
      ]
     },
     "execution_count": 4,
     "metadata": {},
     "output_type": "execute_result"
    }
   ],
   "source": [
    "uri = coolers[0]\n",
    "if cooler.fileops.is_multires_file(uri):\n",
    "    grps = cooler.fileops.list_coolers(uri)\n",
    "    uri = f\"{uri}::{grps[0]}\"\n",
    "\n",
    "\n",
    "views = []\n",
    "\n",
    "view1 = hg.view(\n",
    "    (hg.cooler(coolers[0]).track(\"chromosome-labels\", height=25), \"top\"),\n",
    "    (\n",
    "        hg.cooler(coolers[0]).track(\"heatmap\", height=400).opts(balance=\"KR\", showMousePosition=True, showTooltip=True),\n",
    "        \"center\",\n",
    "    ),\n",
    "    width=4,\n",
    ").domain(x=domain, y=domain)\n",
    "view2 = hg.view(\n",
    "    (hg.cooler(coolers[1]).track(\"chromosome-labels\", height=25), \"top\"),\n",
    "    (\n",
    "        hg.cooler(coolers[1]).track(\"heatmap\", height=400).opts(balance=\"KR\", showMousePosition=True, showTooltip=True),\n",
    "        \"center\",\n",
    "    ),\n",
    "    width=4,\n",
    ").domain(x=domain, y=domain)\n",
    "view3 = hg.view(\n",
    "    (hg.cooler(coolers[3]).track(\"chromosome-labels\", height=25), \"top\"),\n",
    "    (\n",
    "        hg.cooler(coolers[3]).track(\"heatmap\", height=400).opts(balance=\"KR\", showMousePosition=True, showTooltip=True),\n",
    "        \"center\",\n",
    "    ),\n",
    "    width=4,\n",
    ").domain(x=domain, y=domain)\n",
    "\n",
    "locks = hg.lock(view1, view2, view3)\n",
    "\n",
    "(view1 | view2 | view3).locks(locks)"
   ]
  }
 ],
 "metadata": {
  "kernelspec": {
   "display_name": "devel",
   "language": "python",
   "name": "devel"
  },
  "language_info": {
   "codemirror_mode": {
    "name": "ipython",
    "version": 3
   },
   "file_extension": ".py",
   "mimetype": "text/x-python",
   "name": "python",
   "nbconvert_exporter": "python",
   "pygments_lexer": "ipython3",
   "version": "3.10.12"
  }
 },
 "nbformat": 4,
 "nbformat_minor": 5
}
