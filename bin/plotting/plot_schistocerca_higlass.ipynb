{
 "cells": [
  {
   "cell_type": "code",
   "execution_count": 1,
   "id": "0e37ebc5-2447-4660-af8c-0ae9fd8d8139",
   "metadata": {},
   "outputs": [],
   "source": [
    "import higlass as hg\n",
    "import cooler\n",
    "import pathlib\n",
    "import itertools\n",
    "import glob"
   ]
  },
  {
   "cell_type": "code",
   "execution_count": 2,
   "id": "ffef94c7-21c5-4576-93ce-3cc6a09cd309",
   "metadata": {},
   "outputs": [],
   "source": [
    "domain = (330_000_000, 430_000_000)\n",
    "wd = \"../../\"\n",
    "coolers = [\n",
    "    f\"{wd}/data/input/matrices/iqSchAmer2.1_30.mcool\",\n",
    "    f\"{wd}/data/input/matrices/iqSchCanc2.1_30.mcool\",\n",
    "    f\"{wd}/data/input/matrices/iqSchNite1.1_30.mcool\",\n",
    "    f\"{wd}/data/input/matrices/iqSchSeri2.1_30.mcool\",\n",
    "]"
   ]
  },
  {
   "cell_type": "code",
   "execution_count": 3,
   "id": "6eab8223-510b-4111-8ec7-75bc62bd9bbe",
   "metadata": {},
   "outputs": [],
   "source": [
    "cooler_tracks = []\n",
    "\n",
    "for clr in coolers:\n",
    "    cooler_tracks.append(\n",
    "        hg.cooler(clr).track(\"heatmap\", height=500).opts(balance=\"KR\", showMousePosition=True, showTooltip=True)\n",
    "    )\n",
    "\n",
    "# chrom_sizes_track = hg.cooler(coolers[0]).track(\"chromosome-labels\", height=25)"
   ]
  },
  {
   "cell_type": "code",
   "execution_count": 4,
   "id": "c794a446-2dc1-48b7-8fa9-3a8e55bfd0b0",
   "metadata": {},
   "outputs": [
    {
     "data": {
      "text/html": [
       "\n",
       "<!DOCTYPE html>\n",
       "<html>\n",
       "  <head>\n",
       "    <link rel=\"stylesheet\" href=\"https://esm.sh/higlass@1.12/dist/hglib.css\">\n",
       "    <script src=\"https://unpkg.com/requirejs-toggle\"></script>\n",
       "    \n",
       "    <script src=\"https://unpkg.com/requirejs-toggle\"></script>\n",
       "  </head>\n",
       "  <body>\n",
       "    <div id=\"jupyter-hg-2dfc0741d9da405ab23131c62c1ad6af\"></div>\n",
       "  </body>\n",
       "  <script type=\"module\">\n",
       "    import hglib from \"https://esm.sh/higlass@1.12?deps=react@17,react-dom@17,pixi.js@6\";\n",
       "    hglib.viewer(\n",
       "      document.getElementById('jupyter-hg-2dfc0741d9da405ab23131c62c1ad6af'),\n",
       "      {\"editable\": true, \"viewEditable\": true, \"tracksEditable\": true, \"views\": [{\"layout\": {\"x\": 0, \"y\": 0, \"w\": 4, \"h\": 6}, \"tracks\": {\"center\": [{\"tilesetUid\": \"a6b2d236675eddaaefaa09848ea6c24d\", \"server\": \"http://localhost:39477/tilesets/api/v1/\", \"type\": \"heatmap\", \"uid\": \"3fcbcc35-f583-4706-abdf-ceeded41cf3b\", \"height\": 400, \"options\": {\"balance\": \"KR\", \"showMousePosition\": true, \"showTooltip\": true}}]}, \"uid\": \"77cea315-5559-4008-a80f-6695b28d720a\", \"initialXDomain\": [330000000.0, 430000000.0], \"initialYDomain\": [330000000.0, 430000000.0], \"zoomLimits\": [1.0, null]}, {\"layout\": {\"x\": 4, \"y\": 0, \"w\": 4, \"h\": 6}, \"tracks\": {\"center\": [{\"tilesetUid\": \"ef7eac5de5c6d45914dae42ae03bcdcf\", \"server\": \"http://localhost:39477/tilesets/api/v1/\", \"type\": \"heatmap\", \"uid\": \"d9e74e64-f617-4b48-9619-7d292ef4c58f\", \"height\": 400, \"options\": {\"balance\": \"KR\", \"showMousePosition\": true, \"showTooltip\": true}}]}, \"uid\": \"98df3c53-3680-463a-aa4c-5c852a9525fe\", \"initialXDomain\": [330000000.0, 430000000.0], \"initialYDomain\": [330000000.0, 430000000.0], \"zoomLimits\": [1.0, null]}, {\"layout\": {\"x\": 8, \"y\": 0, \"w\": 4, \"h\": 6}, \"tracks\": {\"center\": [{\"tilesetUid\": \"f237da041678156b89b9bdb2f4dc70aa\", \"server\": \"http://localhost:39477/tilesets/api/v1/\", \"type\": \"heatmap\", \"uid\": \"3727988d-27d4-416c-8b6e-d702c4022da8\", \"height\": 400, \"options\": {\"balance\": \"KR\", \"showMousePosition\": true, \"showTooltip\": true}}]}, \"uid\": \"8d9f9bec-36a6-4fc5-bc41-2077e97cf9ea\", \"initialXDomain\": [330000000.0, 430000000.0], \"initialYDomain\": [330000000.0, 430000000.0], \"zoomLimits\": [1.0, null]}], \"zoomLocks\": {\"locksByViewUid\": {\"77cea315-5559-4008-a80f-6695b28d720a\": \"7f19ce7f-eb4a-4145-8d2b-313ccf317582\", \"98df3c53-3680-463a-aa4c-5c852a9525fe\": \"7f19ce7f-eb4a-4145-8d2b-313ccf317582\", \"8d9f9bec-36a6-4fc5-bc41-2077e97cf9ea\": \"7f19ce7f-eb4a-4145-8d2b-313ccf317582\"}, \"locksDict\": {\"7f19ce7f-eb4a-4145-8d2b-313ccf317582\": {\"uid\": \"7f19ce7f-eb4a-4145-8d2b-313ccf317582\", \"77cea315-5559-4008-a80f-6695b28d720a\": [1.0, 1.0, 1.0], \"98df3c53-3680-463a-aa4c-5c852a9525fe\": [1.0, 1.0, 1.0], \"8d9f9bec-36a6-4fc5-bc41-2077e97cf9ea\": [1.0, 1.0, 1.0]}}}, \"locationLocks\": {\"locksByViewUid\": {\"77cea315-5559-4008-a80f-6695b28d720a\": \"7f19ce7f-eb4a-4145-8d2b-313ccf317582\", \"98df3c53-3680-463a-aa4c-5c852a9525fe\": \"7f19ce7f-eb4a-4145-8d2b-313ccf317582\", \"8d9f9bec-36a6-4fc5-bc41-2077e97cf9ea\": \"7f19ce7f-eb4a-4145-8d2b-313ccf317582\"}, \"locksDict\": {\"7f19ce7f-eb4a-4145-8d2b-313ccf317582\": {\"uid\": \"7f19ce7f-eb4a-4145-8d2b-313ccf317582\", \"77cea315-5559-4008-a80f-6695b28d720a\": [1.0, 1.0, 1.0], \"98df3c53-3680-463a-aa4c-5c852a9525fe\": [1.0, 1.0, 1.0], \"8d9f9bec-36a6-4fc5-bc41-2077e97cf9ea\": [1.0, 1.0, 1.0]}}}, \"valueScaleLocks\": {\"locksByViewUid\": {}, \"locksDict\": {}}},\n",
       "    );\n",
       "    </script>\n",
       "</html>"
      ],
      "text/plain": [
       "Viewconf(editable=True, viewEditable=True, tracksEditable=True, zoomFixed=None, compactLayout=None, exportViewUrl=None, trackSourceServers=None, views=[View(layout=Layout(x=0, y=0, w=4, h=6, moved=None, static=None), tracks=Tracks[TrackT](left=None, right=None, top=None, bottom=None, center=[HeatmapTrack(tilesetUid='a6b2d236675eddaaefaa09848ea6c24d', server='http://localhost:39477/tilesets/api/v1/', type='heatmap', uid='3fcbcc35-f583-4706-abdf-ceeded41cf3b', width=None, height=400, options={'balance': 'KR', 'showMousePosition': True, 'showTooltip': True}, data=None, position=None, transforms=None)], whole=None, gallery=None), uid='77cea315-5559-4008-a80f-6695b28d720a', autocompleteSource=None, chromInfoPath=None, genomePositionSearchBox=None, genomePositionSearchBoxVisible=None, initialXDomain=(330000000.0, 430000000.0), initialYDomain=(330000000.0, 430000000.0), overlays=None, selectionView=None, zoomFixed=None, zoomLimits=(1.0, None)), View(layout=Layout(x=4, y=0, w=4, h=6, moved=None, static=None), tracks=Tracks[TrackT](left=None, right=None, top=None, bottom=None, center=[HeatmapTrack(tilesetUid='ef7eac5de5c6d45914dae42ae03bcdcf', server='http://localhost:39477/tilesets/api/v1/', type='heatmap', uid='d9e74e64-f617-4b48-9619-7d292ef4c58f', width=None, height=400, options={'balance': 'KR', 'showMousePosition': True, 'showTooltip': True}, data=None, position=None, transforms=None)], whole=None, gallery=None), uid='98df3c53-3680-463a-aa4c-5c852a9525fe', autocompleteSource=None, chromInfoPath=None, genomePositionSearchBox=None, genomePositionSearchBoxVisible=None, initialXDomain=(330000000.0, 430000000.0), initialYDomain=(330000000.0, 430000000.0), overlays=None, selectionView=None, zoomFixed=None, zoomLimits=(1.0, None)), View(layout=Layout(x=8, y=0, w=4, h=6, moved=None, static=None), tracks=Tracks[TrackT](left=None, right=None, top=None, bottom=None, center=[HeatmapTrack(tilesetUid='f237da041678156b89b9bdb2f4dc70aa', server='http://localhost:39477/tilesets/api/v1/', type='heatmap', uid='3727988d-27d4-416c-8b6e-d702c4022da8', width=None, height=400, options={'balance': 'KR', 'showMousePosition': True, 'showTooltip': True}, data=None, position=None, transforms=None)], whole=None, gallery=None), uid='8d9f9bec-36a6-4fc5-bc41-2077e97cf9ea', autocompleteSource=None, chromInfoPath=None, genomePositionSearchBox=None, genomePositionSearchBoxVisible=None, initialXDomain=(330000000.0, 430000000.0), initialYDomain=(330000000.0, 430000000.0), overlays=None, selectionView=None, zoomFixed=None, zoomLimits=(1.0, None))], zoomLocks=ZoomLocks(locksByViewUid={'77cea315-5559-4008-a80f-6695b28d720a': '7f19ce7f-eb4a-4145-8d2b-313ccf317582', '98df3c53-3680-463a-aa4c-5c852a9525fe': '7f19ce7f-eb4a-4145-8d2b-313ccf317582', '8d9f9bec-36a6-4fc5-bc41-2077e97cf9ea': '7f19ce7f-eb4a-4145-8d2b-313ccf317582'}, locksDict={'7f19ce7f-eb4a-4145-8d2b-313ccf317582': Lock(uid='7f19ce7f-eb4a-4145-8d2b-313ccf317582', 77cea315-5559-4008-a80f-6695b28d720a=(1.0, 1.0, 1.0), 98df3c53-3680-463a-aa4c-5c852a9525fe=(1.0, 1.0, 1.0), 8d9f9bec-36a6-4fc5-bc41-2077e97cf9ea=(1.0, 1.0, 1.0))}), locationLocks=LocationLocks(locksByViewUid={'77cea315-5559-4008-a80f-6695b28d720a': '7f19ce7f-eb4a-4145-8d2b-313ccf317582', '98df3c53-3680-463a-aa4c-5c852a9525fe': '7f19ce7f-eb4a-4145-8d2b-313ccf317582', '8d9f9bec-36a6-4fc5-bc41-2077e97cf9ea': '7f19ce7f-eb4a-4145-8d2b-313ccf317582'}, locksDict={'7f19ce7f-eb4a-4145-8d2b-313ccf317582': Lock(uid='7f19ce7f-eb4a-4145-8d2b-313ccf317582', 77cea315-5559-4008-a80f-6695b28d720a=(1.0, 1.0, 1.0), 98df3c53-3680-463a-aa4c-5c852a9525fe=(1.0, 1.0, 1.0), 8d9f9bec-36a6-4fc5-bc41-2077e97cf9ea=(1.0, 1.0, 1.0))}), valueScaleLocks=ValueScaleLocks(locksByViewUid={}, locksDict={}), chromInfoPath=None)"
      ]
     },
     "execution_count": 4,
     "metadata": {},
     "output_type": "execute_result"
    }
   ],
   "source": [
    "uri = coolers[0]\n",
    "if cooler.fileops.is_multires_file(uri):\n",
    "    grps = cooler.fileops.list_coolers(uri)\n",
    "    uri = f\"{uri}::{grps[0]}\"\n",
    "\n",
    "\n",
    "views = []\n",
    "\n",
    "view1 = hg.view(\n",
    "    (\n",
    "        hg.cooler(coolers[0]).track(\"heatmap\", height=400).opts(balance=\"KR\", showMousePosition=True, showTooltip=True),\n",
    "        \"center\",\n",
    "    ),\n",
    "    width=4,\n",
    ").domain(x=domain, y=domain)\n",
    "view2 = hg.view(\n",
    "    (\n",
    "        hg.cooler(coolers[1]).track(\"heatmap\", height=400).opts(balance=\"KR\", showMousePosition=True, showTooltip=True),\n",
    "        \"center\",\n",
    "    ),\n",
    "    width=4,\n",
    ").domain(x=domain, y=domain)\n",
    "view3 = hg.view(\n",
    "    (\n",
    "        hg.cooler(coolers[3]).track(\"heatmap\", height=400).opts(balance=\"KR\", showMousePosition=True, showTooltip=True),\n",
    "        \"center\",\n",
    "    ),\n",
    "    width=4,\n",
    ").domain(x=domain, y=domain)\n",
    "\n",
    "locks = hg.lock(view1, view2, view3)\n",
    "\n",
    "(view1 | view2 | view3).locks(locks)"
   ]
  },
  {
   "cell_type": "code",
   "execution_count": null,
   "id": "085b89c5-829a-453f-b0c1-31a80c58e08e",
   "metadata": {},
   "outputs": [],
   "source": []
  }
 ],
 "metadata": {
  "kernelspec": {
   "display_name": "devel",
   "language": "python",
   "name": "devel"
  },
  "language_info": {
   "codemirror_mode": {
    "name": "ipython",
    "version": 3
   },
   "file_extension": ".py",
   "mimetype": "text/x-python",
   "name": "python",
   "nbconvert_exporter": "python",
   "pygments_lexer": "ipython3",
   "version": "3.10.8"
  }
 },
 "nbformat": 4,
 "nbformat_minor": 5
}
